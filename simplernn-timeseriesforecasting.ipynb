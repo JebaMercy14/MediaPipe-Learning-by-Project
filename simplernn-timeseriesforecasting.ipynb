{
 "cells": [
  {
   "cell_type": "code",
   "execution_count": 1,
   "id": "d85dc76c",
   "metadata": {
    "_cell_guid": "b1076dfc-b9ad-4769-8c92-a6c4dae69d19",
    "_uuid": "8f2839f25d086af736a60e9eeb907d3b93b6e0e5",
    "execution": {
     "iopub.execute_input": "2023-02-11T18:29:27.339154Z",
     "iopub.status.busy": "2023-02-11T18:29:27.338667Z",
     "iopub.status.idle": "2023-02-11T18:29:27.358907Z",
     "shell.execute_reply": "2023-02-11T18:29:27.357954Z"
    },
    "papermill": {
     "duration": 0.039815,
     "end_time": "2023-02-11T18:29:27.362887",
     "exception": false,
     "start_time": "2023-02-11T18:29:27.323072",
     "status": "completed"
    },
    "tags": []
   },
   "outputs": [
    {
     "name": "stdout",
     "output_type": "stream",
     "text": [
      "/kaggle/input/-tesla-daily-stocks-prices/tesla_stocks.csv\n"
     ]
    }
   ],
   "source": [
    "# This Python 3 environment comes with many helpful analytics libraries installed\n",
    "# It is defined by the kaggle/python Docker image: https://github.com/kaggle/docker-python\n",
    "# For example, here's several helpful packages to load\n",
    "\n",
    "import numpy as np # linear algebra\n",
    "import pandas as pd # data processing, CSV file I/O (e.g. pd.read_csv)\n",
    "\n",
    "# Input data files are available in the read-only \"../input/\" directory\n",
    "# For example, running this (by clicking run or pressing Shift+Enter) will list all files under the input directory\n",
    "\n",
    "import os\n",
    "for dirname, _, filenames in os.walk('/kaggle/input'):\n",
    "    for filename in filenames:\n",
    "        print(os.path.join(dirname, filename))\n",
    "\n",
    "# You can write up to 20GB to the current directory (/kaggle/working/) that gets preserved as output when you create a version using \"Save & Run All\" \n",
    "# You can also write temporary files to /kaggle/temp/, but they won't be saved outside of the current session"
   ]
  },
  {
   "cell_type": "markdown",
   "id": "11e2614d",
   "metadata": {
    "papermill": {
     "duration": 0.011845,
     "end_time": "2023-02-11T18:29:27.387969",
     "exception": false,
     "start_time": "2023-02-11T18:29:27.376124",
     "status": "completed"
    },
    "tags": []
   },
   "source": [
    "# IMPORT PACKAGES"
   ]
  },
  {
   "cell_type": "code",
   "execution_count": 2,
   "id": "6b6be0c8",
   "metadata": {
    "execution": {
     "iopub.execute_input": "2023-02-11T18:29:27.415414Z",
     "iopub.status.busy": "2023-02-11T18:29:27.414208Z",
     "iopub.status.idle": "2023-02-11T18:29:28.822319Z",
     "shell.execute_reply": "2023-02-11T18:29:28.820779Z"
    },
    "papermill": {
     "duration": 1.425075,
     "end_time": "2023-02-11T18:29:28.825677",
     "exception": false,
     "start_time": "2023-02-11T18:29:27.400602",
     "status": "completed"
    },
    "tags": []
   },
   "outputs": [],
   "source": [
    "import pandas as pd\n",
    "import numpy as np\n",
    "import seaborn as sns\n",
    "import matplotlib.pyplot as plt\n",
    "from sklearn.preprocessing import MinMaxScaler"
   ]
  },
  {
   "cell_type": "code",
   "execution_count": 3,
   "id": "195526aa",
   "metadata": {
    "execution": {
     "iopub.execute_input": "2023-02-11T18:29:28.854111Z",
     "iopub.status.busy": "2023-02-11T18:29:28.853644Z",
     "iopub.status.idle": "2023-02-11T18:29:34.759395Z",
     "shell.execute_reply": "2023-02-11T18:29:34.758002Z"
    },
    "papermill": {
     "duration": 5.92299,
     "end_time": "2023-02-11T18:29:34.762745",
     "exception": false,
     "start_time": "2023-02-11T18:29:28.839755",
     "status": "completed"
    },
    "tags": []
   },
   "outputs": [],
   "source": [
    "import tensorflow as tf\n",
    "from tensorflow import keras"
   ]
  },
  {
   "cell_type": "markdown",
   "id": "382b63b4",
   "metadata": {
    "papermill": {
     "duration": 0.011154,
     "end_time": "2023-02-11T18:29:34.786115",
     "exception": false,
     "start_time": "2023-02-11T18:29:34.774961",
     "status": "completed"
    },
    "tags": []
   },
   "source": [
    "# LOAD DATASET"
   ]
  },
  {
   "cell_type": "code",
   "execution_count": 4,
   "id": "0cf95be9",
   "metadata": {
    "execution": {
     "iopub.execute_input": "2023-02-11T18:29:34.812545Z",
     "iopub.status.busy": "2023-02-11T18:29:34.811667Z",
     "iopub.status.idle": "2023-02-11T18:29:34.840615Z",
     "shell.execute_reply": "2023-02-11T18:29:34.839244Z"
    },
    "papermill": {
     "duration": 0.045644,
     "end_time": "2023-02-11T18:29:34.843613",
     "exception": false,
     "start_time": "2023-02-11T18:29:34.797969",
     "status": "completed"
    },
    "tags": []
   },
   "outputs": [],
   "source": [
    "df = pd.read_csv('/kaggle/input/-tesla-daily-stocks-prices/tesla_stocks.csv', parse_dates = ['Date'])"
   ]
  },
  {
   "cell_type": "code",
   "execution_count": 5,
   "id": "120b3fa7",
   "metadata": {
    "execution": {
     "iopub.execute_input": "2023-02-11T18:29:34.869956Z",
     "iopub.status.busy": "2023-02-11T18:29:34.869479Z",
     "iopub.status.idle": "2023-02-11T18:29:34.900251Z",
     "shell.execute_reply": "2023-02-11T18:29:34.898771Z"
    },
    "papermill": {
     "duration": 0.047109,
     "end_time": "2023-02-11T18:29:34.902626",
     "exception": false,
     "start_time": "2023-02-11T18:29:34.855517",
     "status": "completed"
    },
    "tags": []
   },
   "outputs": [
    {
     "data": {
      "text/html": [
       "<div>\n",
       "<style scoped>\n",
       "    .dataframe tbody tr th:only-of-type {\n",
       "        vertical-align: middle;\n",
       "    }\n",
       "\n",
       "    .dataframe tbody tr th {\n",
       "        vertical-align: top;\n",
       "    }\n",
       "\n",
       "    .dataframe thead th {\n",
       "        text-align: right;\n",
       "    }\n",
       "</style>\n",
       "<table border=\"1\" class=\"dataframe\">\n",
       "  <thead>\n",
       "    <tr style=\"text-align: right;\">\n",
       "      <th></th>\n",
       "      <th>Date</th>\n",
       "      <th>Open</th>\n",
       "      <th>High</th>\n",
       "      <th>Low</th>\n",
       "      <th>Close</th>\n",
       "      <th>Adj Close</th>\n",
       "      <th>Volume</th>\n",
       "    </tr>\n",
       "  </thead>\n",
       "  <tbody>\n",
       "    <tr>\n",
       "      <th>0</th>\n",
       "      <td>2010-06-29</td>\n",
       "      <td>3.800</td>\n",
       "      <td>5.000</td>\n",
       "      <td>3.508</td>\n",
       "      <td>4.778</td>\n",
       "      <td>4.778</td>\n",
       "      <td>93831500</td>\n",
       "    </tr>\n",
       "    <tr>\n",
       "      <th>1</th>\n",
       "      <td>2010-06-30</td>\n",
       "      <td>5.158</td>\n",
       "      <td>6.084</td>\n",
       "      <td>4.660</td>\n",
       "      <td>4.766</td>\n",
       "      <td>4.766</td>\n",
       "      <td>85935500</td>\n",
       "    </tr>\n",
       "    <tr>\n",
       "      <th>2</th>\n",
       "      <td>2010-07-01</td>\n",
       "      <td>5.000</td>\n",
       "      <td>5.184</td>\n",
       "      <td>4.054</td>\n",
       "      <td>4.392</td>\n",
       "      <td>4.392</td>\n",
       "      <td>41094000</td>\n",
       "    </tr>\n",
       "    <tr>\n",
       "      <th>3</th>\n",
       "      <td>2010-07-02</td>\n",
       "      <td>4.600</td>\n",
       "      <td>4.620</td>\n",
       "      <td>3.742</td>\n",
       "      <td>3.840</td>\n",
       "      <td>3.840</td>\n",
       "      <td>25699000</td>\n",
       "    </tr>\n",
       "    <tr>\n",
       "      <th>4</th>\n",
       "      <td>2010-07-06</td>\n",
       "      <td>4.000</td>\n",
       "      <td>4.000</td>\n",
       "      <td>3.166</td>\n",
       "      <td>3.222</td>\n",
       "      <td>3.222</td>\n",
       "      <td>34334500</td>\n",
       "    </tr>\n",
       "  </tbody>\n",
       "</table>\n",
       "</div>"
      ],
      "text/plain": [
       "        Date   Open   High    Low  Close  Adj Close    Volume\n",
       "0 2010-06-29  3.800  5.000  3.508  4.778      4.778  93831500\n",
       "1 2010-06-30  5.158  6.084  4.660  4.766      4.766  85935500\n",
       "2 2010-07-01  5.000  5.184  4.054  4.392      4.392  41094000\n",
       "3 2010-07-02  4.600  4.620  3.742  3.840      3.840  25699000\n",
       "4 2010-07-06  4.000  4.000  3.166  3.222      3.222  34334500"
      ]
     },
     "execution_count": 5,
     "metadata": {},
     "output_type": "execute_result"
    }
   ],
   "source": [
    "df.head()"
   ]
  },
  {
   "cell_type": "code",
   "execution_count": 6,
   "id": "29d9cbee",
   "metadata": {
    "execution": {
     "iopub.execute_input": "2023-02-11T18:29:34.928793Z",
     "iopub.status.busy": "2023-02-11T18:29:34.928292Z",
     "iopub.status.idle": "2023-02-11T18:29:35.187123Z",
     "shell.execute_reply": "2023-02-11T18:29:35.185156Z"
    },
    "papermill": {
     "duration": 0.276278,
     "end_time": "2023-02-11T18:29:35.190897",
     "exception": false,
     "start_time": "2023-02-11T18:29:34.914619",
     "status": "completed"
    },
    "tags": []
   },
   "outputs": [
    {
     "name": "stdout",
     "output_type": "stream",
     "text": [
      "<class 'pandas.core.frame.DataFrame'>\n",
      "RangeIndex: 2959 entries, 0 to 2958\n",
      "Data columns (total 7 columns):\n",
      " #   Column     Non-Null Count  Dtype         \n",
      "---  ------     --------------  -----         \n",
      " 0   Date       2959 non-null   datetime64[ns]\n",
      " 1   Open       2959 non-null   float64       \n",
      " 2   High       2959 non-null   float64       \n",
      " 3   Low        2959 non-null   float64       \n",
      " 4   Close      2959 non-null   float64       \n",
      " 5   Adj Close  2959 non-null   float64       \n",
      " 6   Volume     2959 non-null   int64         \n",
      "dtypes: datetime64[ns](1), float64(5), int64(1)\n",
      "memory usage: 161.9 KB\n"
     ]
    }
   ],
   "source": [
    "df.info()"
   ]
  },
  {
   "cell_type": "code",
   "execution_count": 7,
   "id": "0a3fa522",
   "metadata": {
    "execution": {
     "iopub.execute_input": "2023-02-11T18:29:35.219306Z",
     "iopub.status.busy": "2023-02-11T18:29:35.218832Z",
     "iopub.status.idle": "2023-02-11T18:29:35.226496Z",
     "shell.execute_reply": "2023-02-11T18:29:35.224922Z"
    },
    "papermill": {
     "duration": 0.025519,
     "end_time": "2023-02-11T18:29:35.230228",
     "exception": false,
     "start_time": "2023-02-11T18:29:35.204709",
     "status": "completed"
    },
    "tags": []
   },
   "outputs": [
    {
     "name": "stdout",
     "output_type": "stream",
     "text": [
      "Total observations: 2959\n",
      "Training set: 2071\n",
      "Validation set: 888\n"
     ]
    }
   ],
   "source": [
    "train_length = round(len(df)*0.7)\n",
    "lg = len(df)\n",
    "val_length = lg-train_length\n",
    "\n",
    "print('Total observations:',lg)\n",
    "print('Training set:', train_length)\n",
    "print('Validation set:', val_length)"
   ]
  },
  {
   "cell_type": "code",
   "execution_count": 8,
   "id": "5875577d",
   "metadata": {
    "execution": {
     "iopub.execute_input": "2023-02-11T18:29:35.258183Z",
     "iopub.status.busy": "2023-02-11T18:29:35.257720Z",
     "iopub.status.idle": "2023-02-11T18:29:35.263623Z",
     "shell.execute_reply": "2023-02-11T18:29:35.262602Z"
    },
    "papermill": {
     "duration": 0.022169,
     "end_time": "2023-02-11T18:29:35.265871",
     "exception": false,
     "start_time": "2023-02-11T18:29:35.243702",
     "status": "completed"
    },
    "tags": []
   },
   "outputs": [],
   "source": [
    "train_data = df['Open'][:train_length,]\n",
    "val_data = df['Open'][train_length:,]"
   ]
  },
  {
   "cell_type": "code",
   "execution_count": 9,
   "id": "589677da",
   "metadata": {
    "execution": {
     "iopub.execute_input": "2023-02-11T18:29:35.293534Z",
     "iopub.status.busy": "2023-02-11T18:29:35.292803Z",
     "iopub.status.idle": "2023-02-11T18:29:35.302970Z",
     "shell.execute_reply": "2023-02-11T18:29:35.301443Z"
    },
    "papermill": {
     "duration": 0.027251,
     "end_time": "2023-02-11T18:29:35.305704",
     "exception": false,
     "start_time": "2023-02-11T18:29:35.278453",
     "status": "completed"
    },
    "tags": []
   },
   "outputs": [
    {
     "data": {
      "text/plain": [
       "2071      56.102001\n",
       "2072      60.712002\n",
       "2073      59.540001\n",
       "2074      59.695999\n",
       "2075      60.000000\n",
       "           ...     \n",
       "2954     979.940002\n",
       "2955    1009.729980\n",
       "2956    1008.000000\n",
       "2957    1065.099976\n",
       "2958    1065.099976\n",
       "Name: Open, Length: 888, dtype: float64"
      ]
     },
     "execution_count": 9,
     "metadata": {},
     "output_type": "execute_result"
    }
   ],
   "source": [
    "val_data"
   ]
  },
  {
   "cell_type": "code",
   "execution_count": 10,
   "id": "1770c648",
   "metadata": {
    "execution": {
     "iopub.execute_input": "2023-02-11T18:29:35.335728Z",
     "iopub.status.busy": "2023-02-11T18:29:35.335280Z",
     "iopub.status.idle": "2023-02-11T18:29:35.343455Z",
     "shell.execute_reply": "2023-02-11T18:29:35.342593Z"
    },
    "papermill": {
     "duration": 0.026518,
     "end_time": "2023-02-11T18:29:35.345796",
     "exception": false,
     "start_time": "2023-02-11T18:29:35.319278",
     "status": "completed"
    },
    "tags": []
   },
   "outputs": [
    {
     "data": {
      "text/plain": [
       "0        3.800000\n",
       "1        5.158000\n",
       "2        5.000000\n",
       "3        4.600000\n",
       "4        4.000000\n",
       "          ...    \n",
       "2066    56.287998\n",
       "2067    57.604000\n",
       "2068    57.751999\n",
       "2069    58.007999\n",
       "2070    59.338001\n",
       "Name: Open, Length: 2071, dtype: float64"
      ]
     },
     "execution_count": 10,
     "metadata": {},
     "output_type": "execute_result"
    }
   ],
   "source": [
    "train_data"
   ]
  },
  {
   "cell_type": "code",
   "execution_count": 11,
   "id": "ae29b8a2",
   "metadata": {
    "execution": {
     "iopub.execute_input": "2023-02-11T18:29:35.375042Z",
     "iopub.status.busy": "2023-02-11T18:29:35.373866Z",
     "iopub.status.idle": "2023-02-11T18:29:35.382212Z",
     "shell.execute_reply": "2023-02-11T18:29:35.381052Z"
    },
    "papermill": {
     "duration": 0.026068,
     "end_time": "2023-02-11T18:29:35.385015",
     "exception": false,
     "start_time": "2023-02-11T18:29:35.358947",
     "status": "completed"
    },
    "tags": []
   },
   "outputs": [
    {
     "data": {
      "text/plain": [
       "array([[ 3.8     ],\n",
       "       [ 5.158   ],\n",
       "       [ 5.      ],\n",
       "       ...,\n",
       "       [57.751999],\n",
       "       [58.007999],\n",
       "       [59.338001]])"
      ]
     },
     "execution_count": 11,
     "metadata": {},
     "output_type": "execute_result"
    }
   ],
   "source": [
    "train=train_data.values.reshape(-1,1)\n",
    "train"
   ]
  },
  {
   "cell_type": "code",
   "execution_count": 12,
   "id": "47f7665b",
   "metadata": {
    "execution": {
     "iopub.execute_input": "2023-02-11T18:29:35.411746Z",
     "iopub.status.busy": "2023-02-11T18:29:35.411326Z",
     "iopub.status.idle": "2023-02-11T18:29:35.417458Z",
     "shell.execute_reply": "2023-02-11T18:29:35.416092Z"
    },
    "papermill": {
     "duration": 0.022407,
     "end_time": "2023-02-11T18:29:35.419883",
     "exception": false,
     "start_time": "2023-02-11T18:29:35.397476",
     "status": "completed"
    },
    "tags": []
   },
   "outputs": [],
   "source": [
    "# Normalization\n",
    "# Scale the data between the range [0,1]\n",
    "\n",
    "scaler = MinMaxScaler()\n",
    "scaled_trainset = scaler.fit_transform(train)"
   ]
  },
  {
   "cell_type": "code",
   "execution_count": 13,
   "id": "60f37150",
   "metadata": {
    "execution": {
     "iopub.execute_input": "2023-02-11T18:29:35.446673Z",
     "iopub.status.busy": "2023-02-11T18:29:35.445951Z",
     "iopub.status.idle": "2023-02-11T18:29:35.454256Z",
     "shell.execute_reply": "2023-02-11T18:29:35.452821Z"
    },
    "papermill": {
     "duration": 0.024944,
     "end_time": "2023-02-11T18:29:35.456959",
     "exception": false,
     "start_time": "2023-02-11T18:29:35.432015",
     "status": "completed"
    },
    "tags": []
   },
   "outputs": [
    {
     "data": {
      "text/plain": [
       "array([[0.00771826],\n",
       "       [0.02604237],\n",
       "       [0.0239104 ],\n",
       "       ...,\n",
       "       [0.73571719],\n",
       "       [0.73917152],\n",
       "       [0.75711784]])"
      ]
     },
     "execution_count": 13,
     "metadata": {},
     "output_type": "execute_result"
    }
   ],
   "source": [
    "scaled_trainset"
   ]
  },
  {
   "cell_type": "code",
   "execution_count": 14,
   "id": "d6673353",
   "metadata": {
    "execution": {
     "iopub.execute_input": "2023-02-11T18:29:35.483755Z",
     "iopub.status.busy": "2023-02-11T18:29:35.483029Z",
     "iopub.status.idle": "2023-02-11T18:29:35.753663Z",
     "shell.execute_reply": "2023-02-11T18:29:35.752417Z"
    },
    "papermill": {
     "duration": 0.286969,
     "end_time": "2023-02-11T18:29:35.756236",
     "exception": false,
     "start_time": "2023-02-11T18:29:35.469267",
     "status": "completed"
    },
    "tags": []
   },
   "outputs": [
    {
     "data": {
      "image/png": "[encoded data removed]",
      "text/plain": [
       "<Figure size 1080x432 with 1 Axes>"
      ]
     },
     "metadata": {
      "needs_background": "light"
     },
     "output_type": "display_data"
    }
   ],
   "source": [
    "plt.subplots(figsize = (15,6))\n",
    "plt.plot(train)\n",
    "plt.show()"
   ]
  },
  {
   "cell_type": "markdown",
   "id": "e6e5753b",
   "metadata": {
    "papermill": {
     "duration": 0.012631,
     "end_time": "2023-02-11T18:29:35.781989",
     "exception": false,
     "start_time": "2023-02-11T18:29:35.769358",
     "status": "completed"
    },
    "tags": []
   },
   "source": [
    "For this model the first 50 values will be taken as the x values and 51st value will be used as the y value in the training data"
   ]
  },
  {
   "cell_type": "code",
   "execution_count": 15,
   "id": "0945c0d0",
   "metadata": {
    "execution": {
     "iopub.execute_input": "2023-02-11T18:29:35.809948Z",
     "iopub.status.busy": "2023-02-11T18:29:35.809560Z",
     "iopub.status.idle": "2023-02-11T18:29:35.818586Z",
     "shell.execute_reply": "2023-02-11T18:29:35.817174Z"
    },
    "papermill": {
     "duration": 0.02592,
     "end_time": "2023-02-11T18:29:35.820863",
     "exception": false,
     "start_time": "2023-02-11T18:29:35.794943",
     "status": "completed"
    },
    "tags": []
   },
   "outputs": [],
   "source": [
    "x_train = []\n",
    "y_train = []\n",
    "step = 50\n",
    "\n",
    "for i in range(step, train_length):\n",
    "    x_train.append(scaled_trainset[i-step:i,0])\n",
    "    y_train.append(scaled_trainset[i,0])"
   ]
  },
  {
   "cell_type": "code",
   "execution_count": 16,
   "id": "4fd92fd3",
   "metadata": {
    "execution": {
     "iopub.execute_input": "2023-02-11T18:29:35.848749Z",
     "iopub.status.busy": "2023-02-11T18:29:35.848359Z",
     "iopub.status.idle": "2023-02-11T18:29:35.855633Z",
     "shell.execute_reply": "2023-02-11T18:29:35.854415Z"
    },
    "papermill": {
     "duration": 0.024649,
     "end_time": "2023-02-11T18:29:35.858380",
     "exception": false,
     "start_time": "2023-02-11T18:29:35.833731",
     "status": "completed"
    },
    "tags": []
   },
   "outputs": [],
   "source": [
    "X_train, y_train = np.array(x_train), np.array(y_train)"
   ]
  },
  {
   "cell_type": "code",
   "execution_count": 17,
   "id": "ca7c3084",
   "metadata": {
    "execution": {
     "iopub.execute_input": "2023-02-11T18:29:35.887178Z",
     "iopub.status.busy": "2023-02-11T18:29:35.886771Z",
     "iopub.status.idle": "2023-02-11T18:29:35.893435Z",
     "shell.execute_reply": "2023-02-11T18:29:35.891792Z"
    },
    "papermill": {
     "duration": 0.024018,
     "end_time": "2023-02-11T18:29:35.895785",
     "exception": false,
     "start_time": "2023-02-11T18:29:35.871767",
     "status": "completed"
    },
    "tags": []
   },
   "outputs": [
    {
     "name": "stdout",
     "output_type": "stream",
     "text": [
      "(2021, 50)\n",
      "(2021,)\n"
     ]
    }
   ],
   "source": [
    "print(X_train.shape)\n",
    "print(y_train.shape)"
   ]
  },
  {
   "cell_type": "code",
   "execution_count": 18,
   "id": "565a3bbd",
   "metadata": {
    "execution": {
     "iopub.execute_input": "2023-02-11T18:29:35.926010Z",
     "iopub.status.busy": "2023-02-11T18:29:35.924728Z",
     "iopub.status.idle": "2023-02-11T18:29:35.934750Z",
     "shell.execute_reply": "2023-02-11T18:29:35.933488Z"
    },
    "papermill": {
     "duration": 0.02772,
     "end_time": "2023-02-11T18:29:35.937612",
     "exception": false,
     "start_time": "2023-02-11T18:29:35.909892",
     "status": "completed"
    },
    "tags": []
   },
   "outputs": [
    {
     "data": {
      "text/plain": [
       "array([[0.01311564],\n",
       "       [0.01244097],\n",
       "       [0.01281878],\n",
       "       ...,\n",
       "       [0.73571719],\n",
       "       [0.73917152],\n",
       "       [0.75711784]])"
      ]
     },
     "execution_count": 18,
     "metadata": {},
     "output_type": "execute_result"
    }
   ],
   "source": [
    "X_train = np.reshape(X_train, (X_train.shape[0],X_train.shape[1],1))\n",
    "y_train.reshape(y_train.shape[0],1)"
   ]
  },
  {
   "cell_type": "code",
   "execution_count": 19,
   "id": "0c6ab2ed",
   "metadata": {
    "execution": {
     "iopub.execute_input": "2023-02-11T18:29:35.968182Z",
     "iopub.status.busy": "2023-02-11T18:29:35.967720Z",
     "iopub.status.idle": "2023-02-11T18:29:35.973490Z",
     "shell.execute_reply": "2023-02-11T18:29:35.972554Z"
    },
    "papermill": {
     "duration": 0.02432,
     "end_time": "2023-02-11T18:29:35.976301",
     "exception": false,
     "start_time": "2023-02-11T18:29:35.951981",
     "status": "completed"
    },
    "tags": []
   },
   "outputs": [
    {
     "name": "stdout",
     "output_type": "stream",
     "text": [
      "(2021, 50, 1)\n",
      "(2021,)\n"
     ]
    }
   ],
   "source": [
    "print(X_train.shape)\n",
    "print(y_train.shape)"
   ]
  },
  {
   "cell_type": "code",
   "execution_count": 20,
   "id": "6966d6e5",
   "metadata": {
    "execution": {
     "iopub.execute_input": "2023-02-11T18:29:36.006868Z",
     "iopub.status.busy": "2023-02-11T18:29:36.006446Z",
     "iopub.status.idle": "2023-02-11T18:29:36.013443Z",
     "shell.execute_reply": "2023-02-11T18:29:36.012567Z"
    },
    "papermill": {
     "duration": 0.025416,
     "end_time": "2023-02-11T18:29:36.015630",
     "exception": false,
     "start_time": "2023-02-11T18:29:35.990214",
     "status": "completed"
    },
    "tags": []
   },
   "outputs": [
    {
     "data": {
      "text/plain": [
       "(50, 1)"
      ]
     },
     "execution_count": 20,
     "metadata": {},
     "output_type": "execute_result"
    }
   ],
   "source": [
    "X_train[0].shape"
   ]
  },
  {
   "cell_type": "code",
   "execution_count": 21,
   "id": "0bec3a1e",
   "metadata": {
    "execution": {
     "iopub.execute_input": "2023-02-11T18:29:36.047083Z",
     "iopub.status.busy": "2023-02-11T18:29:36.046635Z",
     "iopub.status.idle": "2023-02-11T18:29:36.054648Z",
     "shell.execute_reply": "2023-02-11T18:29:36.053276Z"
    },
    "papermill": {
     "duration": 0.027164,
     "end_time": "2023-02-11T18:29:36.057155",
     "exception": false,
     "start_time": "2023-02-11T18:29:36.029991",
     "status": "completed"
    },
    "tags": []
   },
   "outputs": [
    {
     "data": {
      "text/plain": [
       "0.013115639446052062"
      ]
     },
     "execution_count": 21,
     "metadata": {},
     "output_type": "execute_result"
    }
   ],
   "source": [
    "y_train[0]"
   ]
  },
  {
   "cell_type": "markdown",
   "id": "9b2b9822",
   "metadata": {
    "papermill": {
     "duration": 0.014467,
     "end_time": "2023-02-11T18:29:36.086477",
     "exception": false,
     "start_time": "2023-02-11T18:29:36.072010",
     "status": "completed"
    },
    "tags": []
   },
   "source": [
    "# RNN model"
   ]
  },
  {
   "cell_type": "code",
   "execution_count": 22,
   "id": "a587db57",
   "metadata": {
    "execution": {
     "iopub.execute_input": "2023-02-11T18:29:36.117673Z",
     "iopub.status.busy": "2023-02-11T18:29:36.117183Z",
     "iopub.status.idle": "2023-02-11T18:29:36.839879Z",
     "shell.execute_reply": "2023-02-11T18:29:36.838741Z"
    },
    "papermill": {
     "duration": 0.741979,
     "end_time": "2023-02-11T18:29:36.843040",
     "exception": false,
     "start_time": "2023-02-11T18:29:36.101061",
     "status": "completed"
    },
    "tags": []
   },
   "outputs": [],
   "source": [
    "import keras\n",
    "from keras.models import Sequential\n",
    "from keras.layers import Dense\n",
    "from keras.layers import SimpleRNN\n",
    "from keras.layers import Dropout"
   ]
  },
  {
   "cell_type": "code",
   "execution_count": 23,
   "id": "580dd55e",
   "metadata": {
    "execution": {
     "iopub.execute_input": "2023-02-11T18:29:36.875831Z",
     "iopub.status.busy": "2023-02-11T18:29:36.875258Z",
     "iopub.status.idle": "2023-02-11T18:29:37.295281Z",
     "shell.execute_reply": "2023-02-11T18:29:37.293910Z"
    },
    "papermill": {
     "duration": 0.439805,
     "end_time": "2023-02-11T18:29:37.298860",
     "exception": false,
     "start_time": "2023-02-11T18:29:36.859055",
     "status": "completed"
    },
    "tags": []
   },
   "outputs": [
    {
     "name": "stderr",
     "output_type": "stream",
     "text": [
      "2023-02-11 18:29:36.915134: I tensorflow/core/common_runtime/process_util.cc:146] Creating new thread pool with default inter op setting: 2. Tune using inter_op_parallelism_threads for best performance.\n"
     ]
    }
   ],
   "source": [
    "model = Sequential()\n",
    "\n",
    "model.add(\n",
    "    SimpleRNN(units = 50,return_sequences= True,input_shape = (X_train.shape[1],1)))\n",
    "\n",
    "model.add(\n",
    "    Dropout(0.2))\n",
    "\n",
    "model.add(\n",
    "    SimpleRNN(units = 50, return_sequences = True)\n",
    "             )\n",
    "\n",
    "model.add(\n",
    "    Dropout(0.2)\n",
    "             )\n",
    "\n",
    "model.add(\n",
    "    SimpleRNN(units = 50, return_sequences = True)\n",
    "             )\n",
    "\n",
    "model.add(\n",
    "    Dropout(0.2)\n",
    "             )\n",
    "\n",
    "model.add(\n",
    "    SimpleRNN(units = 50)\n",
    "             )\n",
    "\n",
    "model.add(\n",
    "    Dropout(0.2)\n",
    "             )\n",
    "\n",
    "model.add(\n",
    "    Dense(units = 1))"
   ]
  },
  {
   "cell_type": "code",
   "execution_count": 24,
   "id": "3f4fc57a",
   "metadata": {
    "execution": {
     "iopub.execute_input": "2023-02-11T18:29:37.330309Z",
     "iopub.status.busy": "2023-02-11T18:29:37.329114Z",
     "iopub.status.idle": "2023-02-11T18:29:37.347959Z",
     "shell.execute_reply": "2023-02-11T18:29:37.346355Z"
    },
    "papermill": {
     "duration": 0.037758,
     "end_time": "2023-02-11T18:29:37.351000",
     "exception": false,
     "start_time": "2023-02-11T18:29:37.313242",
     "status": "completed"
    },
    "tags": []
   },
   "outputs": [],
   "source": [
    "model.compile(optimizer = 'adam', loss = 'mean_squared_error', metrics = ['accuracy'])"
   ]
  },
  {
   "cell_type": "code",
   "execution_count": 25,
   "id": "a9e512f9",
   "metadata": {
    "execution": {
     "iopub.execute_input": "2023-02-11T18:29:37.381937Z",
     "iopub.status.busy": "2023-02-11T18:29:37.381420Z",
     "iopub.status.idle": "2023-02-11T18:29:37.390731Z",
     "shell.execute_reply": "2023-02-11T18:29:37.389090Z"
    },
    "papermill": {
     "duration": 0.027672,
     "end_time": "2023-02-11T18:29:37.393501",
     "exception": false,
     "start_time": "2023-02-11T18:29:37.365829",
     "status": "completed"
    },
    "tags": []
   },
   "outputs": [
    {
     "name": "stdout",
     "output_type": "stream",
     "text": [
      "Model: \"sequential\"\n",
      "_________________________________________________________________\n",
      "Layer (type)                 Output Shape              Param #   \n",
      "=================================================================\n",
      "simple_rnn (SimpleRNN)       (None, 50, 50)            2600      \n",
      "_________________________________________________________________\n",
      "dropout (Dropout)            (None, 50, 50)            0         \n",
      "_________________________________________________________________\n",
      "simple_rnn_1 (SimpleRNN)     (None, 50, 50)            5050      \n",
      "_________________________________________________________________\n",
      "dropout_1 (Dropout)          (None, 50, 50)            0         \n",
      "_________________________________________________________________\n",
      "simple_rnn_2 (SimpleRNN)     (None, 50, 50)            5050      \n",
      "_________________________________________________________________\n",
      "dropout_2 (Dropout)          (None, 50, 50)            0         \n",
      "_________________________________________________________________\n",
      "simple_rnn_3 (SimpleRNN)     (None, 50)                5050      \n",
      "_________________________________________________________________\n",
      "dropout_3 (Dropout)          (None, 50)                0         \n",
      "_________________________________________________________________\n",
      "dense (Dense)                (None, 1)                 51        \n",
      "=================================================================\n",
      "Total params: 17,801\n",
      "Trainable params: 17,801\n",
      "Non-trainable params: 0\n",
      "_________________________________________________________________\n"
     ]
    }
   ],
   "source": [
    "model.summary()"
   ]
  },
  {
   "cell_type": "code",
   "execution_count": 26,
   "id": "b36cf7d9",
   "metadata": {
    "execution": {
     "iopub.execute_input": "2023-02-11T18:29:37.423881Z",
     "iopub.status.busy": "2023-02-11T18:29:37.423214Z",
     "iopub.status.idle": "2023-02-11T18:36:05.024592Z",
     "shell.execute_reply": "2023-02-11T18:36:05.023179Z"
    },
    "papermill": {
     "duration": 387.619878,
     "end_time": "2023-02-11T18:36:05.027610",
     "exception": false,
     "start_time": "2023-02-11T18:29:37.407732",
     "status": "completed"
    },
    "tags": []
   },
   "outputs": [
    {
     "name": "stderr",
     "output_type": "stream",
     "text": [
      "2023-02-11 18:29:37.500705: I tensorflow/compiler/mlir/mlir_graph_optimization_pass.cc:185] None of the MLIR Optimization Passes are enabled (registered 2)\n"
     ]
    },
    {
     "name": "stdout",
     "output_type": "stream",
     "text": [
      "Epoch 1/50\n",
      "64/64 [==============================] - 12s 128ms/step - loss: 0.3722 - accuracy: 4.9480e-04\n",
      "Epoch 2/50\n",
      "64/64 [==============================] - 7s 115ms/step - loss: 0.1828 - accuracy: 4.9480e-04\n",
      "Epoch 3/50\n",
      "64/64 [==============================] - 8s 119ms/step - loss: 0.1102 - accuracy: 4.9480e-04\n",
      "Epoch 4/50\n",
      "64/64 [==============================] - 8s 120ms/step - loss: 0.0745 - accuracy: 4.9480e-04\n",
      "Epoch 5/50\n",
      "64/64 [==============================] - 8s 126ms/step - loss: 0.0535 - accuracy: 4.9480e-04\n",
      "Epoch 6/50\n",
      "64/64 [==============================] - 7s 117ms/step - loss: 0.0411 - accuracy: 4.9480e-04\n",
      "Epoch 7/50\n",
      "64/64 [==============================] - 8s 118ms/step - loss: 0.0351 - accuracy: 4.9480e-04\n",
      "Epoch 8/50\n",
      "64/64 [==============================] - 8s 117ms/step - loss: 0.0300 - accuracy: 4.9480e-04\n",
      "Epoch 9/50\n",
      "64/64 [==============================] - 8s 126ms/step - loss: 0.0248 - accuracy: 4.9480e-04\n",
      "Epoch 10/50\n",
      "64/64 [==============================] - 7s 115ms/step - loss: 0.0227 - accuracy: 4.9480e-04\n",
      "Epoch 11/50\n",
      "64/64 [==============================] - 7s 114ms/step - loss: 0.0193 - accuracy: 4.9480e-04\n",
      "Epoch 12/50\n",
      "64/64 [==============================] - 8s 118ms/step - loss: 0.0179 - accuracy: 4.9480e-04\n",
      "Epoch 13/50\n",
      "64/64 [==============================] - 8s 128ms/step - loss: 0.0160 - accuracy: 4.9480e-04\n",
      "Epoch 14/50\n",
      "64/64 [==============================] - 7s 116ms/step - loss: 0.0152 - accuracy: 4.9480e-04\n",
      "Epoch 15/50\n",
      "64/64 [==============================] - 7s 116ms/step - loss: 0.0133 - accuracy: 4.9480e-04\n",
      "Epoch 16/50\n",
      "64/64 [==============================] - 8s 119ms/step - loss: 0.0127 - accuracy: 4.9480e-04\n",
      "Epoch 17/50\n",
      "64/64 [==============================] - 8s 125ms/step - loss: 0.0124 - accuracy: 4.9480e-04\n",
      "Epoch 18/50\n",
      "64/64 [==============================] - 7s 115ms/step - loss: 0.0107 - accuracy: 4.9480e-04\n",
      "Epoch 19/50\n",
      "64/64 [==============================] - 7s 114ms/step - loss: 0.0094 - accuracy: 4.9480e-04\n",
      "Epoch 20/50\n",
      "64/64 [==============================] - 8s 119ms/step - loss: 0.0095 - accuracy: 4.9480e-04\n",
      "Epoch 21/50\n",
      "64/64 [==============================] - 8s 125ms/step - loss: 0.0080 - accuracy: 4.9480e-04\n",
      "Epoch 22/50\n",
      "64/64 [==============================] - 7s 114ms/step - loss: 0.0080 - accuracy: 4.9480e-04\n",
      "Epoch 23/50\n",
      "64/64 [==============================] - 7s 117ms/step - loss: 0.0076 - accuracy: 4.9480e-04\n",
      "Epoch 24/50\n",
      "64/64 [==============================] - 7s 117ms/step - loss: 0.0074 - accuracy: 4.9480e-04\n",
      "Epoch 25/50\n",
      "64/64 [==============================] - 8s 122ms/step - loss: 0.0062 - accuracy: 4.9480e-04\n",
      "Epoch 26/50\n",
      "64/64 [==============================] - 8s 124ms/step - loss: 0.0059 - accuracy: 4.9480e-04\n",
      "Epoch 27/50\n",
      "64/64 [==============================] - 7s 114ms/step - loss: 0.0061 - accuracy: 4.9480e-04\n",
      "Epoch 28/50\n",
      "64/64 [==============================] - 7s 115ms/step - loss: 0.0058 - accuracy: 4.9480e-04\n",
      "Epoch 29/50\n",
      "64/64 [==============================] - 8s 118ms/step - loss: 0.0056 - accuracy: 4.9480e-04\n",
      "Epoch 30/50\n",
      "64/64 [==============================] - 8s 125ms/step - loss: 0.0050 - accuracy: 4.9480e-04\n",
      "Epoch 31/50\n",
      "64/64 [==============================] - 8s 119ms/step - loss: 0.0049 - accuracy: 4.9480e-04\n",
      "Epoch 32/50\n",
      "64/64 [==============================] - 8s 124ms/step - loss: 0.0045 - accuracy: 4.9480e-04\n",
      "Epoch 33/50\n",
      "64/64 [==============================] - 8s 119ms/step - loss: 0.0043 - accuracy: 4.9480e-04\n",
      "Epoch 34/50\n",
      "64/64 [==============================] - 8s 125ms/step - loss: 0.0046 - accuracy: 4.9480e-04\n",
      "Epoch 35/50\n",
      "64/64 [==============================] - 8s 117ms/step - loss: 0.0041 - accuracy: 4.9480e-04\n",
      "Epoch 36/50\n",
      "64/64 [==============================] - 7s 116ms/step - loss: 0.0043 - accuracy: 4.9480e-04\n",
      "Epoch 37/50\n",
      "64/64 [==============================] - 7s 116ms/step - loss: 0.0038 - accuracy: 4.9480e-04\n",
      "Epoch 38/50\n",
      "64/64 [==============================] - 8s 124ms/step - loss: 0.0038 - accuracy: 4.9480e-04\n",
      "Epoch 39/50\n",
      "64/64 [==============================] - 8s 120ms/step - loss: 0.0040 - accuracy: 4.9480e-04\n",
      "Epoch 40/50\n",
      "64/64 [==============================] - 7s 116ms/step - loss: 0.0036 - accuracy: 4.9480e-04\n",
      "Epoch 41/50\n",
      "64/64 [==============================] - 8s 121ms/step - loss: 0.0035 - accuracy: 4.9480e-04\n",
      "Epoch 42/50\n",
      "64/64 [==============================] - 8s 128ms/step - loss: 0.0032 - accuracy: 4.9480e-04\n",
      "Epoch 43/50\n",
      "64/64 [==============================] - 7s 117ms/step - loss: 0.0032 - accuracy: 4.9480e-04\n",
      "Epoch 44/50\n",
      "64/64 [==============================] - 7s 115ms/step - loss: 0.0030 - accuracy: 4.9480e-04\n",
      "Epoch 45/50\n",
      "64/64 [==============================] - 8s 120ms/step - loss: 0.0029 - accuracy: 4.9480e-04\n",
      "Epoch 46/50\n",
      "64/64 [==============================] - 8s 128ms/step - loss: 0.0027 - accuracy: 4.9480e-04\n",
      "Epoch 47/50\n",
      "64/64 [==============================] - 8s 118ms/step - loss: 0.0030 - accuracy: 4.9480e-04\n",
      "Epoch 48/50\n",
      "64/64 [==============================] - 8s 120ms/step - loss: 0.0027 - accuracy: 4.9480e-04\n",
      "Epoch 49/50\n",
      "64/64 [==============================] - 7s 116ms/step - loss: 0.0023 - accuracy: 4.9480e-04\n",
      "Epoch 50/50\n",
      "64/64 [==============================] - 8s 126ms/step - loss: 0.0023 - accuracy: 4.9480e-04\n"
     ]
    }
   ],
   "source": [
    "history = model.fit(X_train, y_train, epochs = 50, batch_size =32)"
   ]
  },
  {
   "cell_type": "code",
   "execution_count": 27,
   "id": "748b19df",
   "metadata": {
    "execution": {
     "iopub.execute_input": "2023-02-11T18:36:05.467446Z",
     "iopub.status.busy": "2023-02-11T18:36:05.466744Z",
     "iopub.status.idle": "2023-02-11T18:36:05.692103Z",
     "shell.execute_reply": "2023-02-11T18:36:05.690784Z"
    },
    "papermill": {
     "duration": 0.449671,
     "end_time": "2023-02-11T18:36:05.695190",
     "exception": false,
     "start_time": "2023-02-11T18:36:05.245519",
     "status": "completed"
    },
    "tags": []
   },
   "outputs": [
    {
     "data": {
      "text/plain": [
       "[<matplotlib.lines.Line2D at 0x7f51ac0b5dd0>]"
      ]
     },
     "execution_count": 27,
     "metadata": {},
     "output_type": "execute_result"
    },
    {
     "data": {
      "image/png": "[encoded data removed]",
      "text/plain": [
       "<Figure size 432x288 with 1 Axes>"
      ]
     },
     "metadata": {
      "needs_background": "light"
     },
     "output_type": "display_data"
    }
   ],
   "source": [
    "plt.plot(history.history['loss'])"
   ]
  },
  {
   "cell_type": "code",
   "execution_count": 28,
   "id": "fe722aeb",
   "metadata": {
    "execution": {
     "iopub.execute_input": "2023-02-11T18:36:06.147836Z",
     "iopub.status.busy": "2023-02-11T18:36:06.147402Z",
     "iopub.status.idle": "2023-02-11T18:36:06.345828Z",
     "shell.execute_reply": "2023-02-11T18:36:06.344971Z"
    },
    "papermill": {
     "duration": 0.426821,
     "end_time": "2023-02-11T18:36:06.348237",
     "exception": false,
     "start_time": "2023-02-11T18:36:05.921416",
     "status": "completed"
    },
    "tags": []
   },
   "outputs": [
    {
     "data": {
      "text/plain": [
       "[<matplotlib.lines.Line2D at 0x7f51d1f48cd0>]"
      ]
     },
     "execution_count": 28,
     "metadata": {},
     "output_type": "execute_result"
    },
    {
     "data": {
      "image/png": "[encoded data removed]",
      "text/plain": [
       "<Figure size 432x288 with 1 Axes>"
      ]
     },
     "metadata": {
      "needs_background": "light"
     },
     "output_type": "display_data"
    }
   ],
   "source": [
    "plt.plot(history.history['accuracy'])"
   ]
  },
  {
   "cell_type": "code",
   "execution_count": 29,
   "id": "44625b80",
   "metadata": {
    "execution": {
     "iopub.execute_input": "2023-02-11T18:36:06.778150Z",
     "iopub.status.busy": "2023-02-11T18:36:06.777385Z",
     "iopub.status.idle": "2023-02-11T18:36:10.220022Z",
     "shell.execute_reply": "2023-02-11T18:36:10.218756Z"
    },
    "papermill": {
     "duration": 3.662454,
     "end_time": "2023-02-11T18:36:10.223011",
     "exception": false,
     "start_time": "2023-02-11T18:36:06.560557",
     "status": "completed"
    },
    "tags": []
   },
   "outputs": [],
   "source": [
    "y_pred = model.predict(X_train)\n",
    "y_pred = scaler.inverse_transform(y_pred.reshape(1,-1))"
   ]
  },
  {
   "cell_type": "code",
   "execution_count": 30,
   "id": "15db8960",
   "metadata": {
    "execution": {
     "iopub.execute_input": "2023-02-11T18:36:10.756427Z",
     "iopub.status.busy": "2023-02-11T18:36:10.755697Z",
     "iopub.status.idle": "2023-02-11T18:36:10.763149Z",
     "shell.execute_reply": "2023-02-11T18:36:10.761770Z"
    },
    "papermill": {
     "duration": 0.317661,
     "end_time": "2023-02-11T18:36:10.765500",
     "exception": false,
     "start_time": "2023-02-11T18:36:10.447839",
     "status": "completed"
    },
    "tags": []
   },
   "outputs": [
    {
     "data": {
      "text/plain": [
       "array([[ 4.5532675,  4.645937 ,  4.6562686, ..., 56.303886 , 56.89267  ,\n",
       "        57.695713 ]], dtype=float32)"
      ]
     },
     "execution_count": 30,
     "metadata": {},
     "output_type": "execute_result"
    }
   ],
   "source": [
    "y_pred"
   ]
  },
  {
   "cell_type": "code",
   "execution_count": 31,
   "id": "c698b63c",
   "metadata": {
    "execution": {
     "iopub.execute_input": "2023-02-11T18:36:11.211998Z",
     "iopub.status.busy": "2023-02-11T18:36:11.211041Z",
     "iopub.status.idle": "2023-02-11T18:36:11.217491Z",
     "shell.execute_reply": "2023-02-11T18:36:11.216393Z"
    },
    "papermill": {
     "duration": 0.232554,
     "end_time": "2023-02-11T18:36:11.219882",
     "exception": false,
     "start_time": "2023-02-11T18:36:10.987328",
     "status": "completed"
    },
    "tags": []
   },
   "outputs": [
    {
     "data": {
      "text/plain": [
       "array([0.01311564, 0.01244097, 0.01281878, ..., 0.73571719, 0.73917152,\n",
       "       0.75711784])"
      ]
     },
     "execution_count": 31,
     "metadata": {},
     "output_type": "execute_result"
    }
   ],
   "source": [
    "y_train"
   ]
  },
  {
   "cell_type": "code",
   "execution_count": 32,
   "id": "fde69480",
   "metadata": {
    "execution": {
     "iopub.execute_input": "2023-02-11T18:36:11.660054Z",
     "iopub.status.busy": "2023-02-11T18:36:11.659598Z",
     "iopub.status.idle": "2023-02-11T18:36:11.668902Z",
     "shell.execute_reply": "2023-02-11T18:36:11.667442Z"
    },
    "papermill": {
     "duration": 0.231876,
     "end_time": "2023-02-11T18:36:11.671531",
     "exception": false,
     "start_time": "2023-02-11T18:36:11.439655",
     "status": "completed"
    },
    "tags": []
   },
   "outputs": [
    {
     "data": {
      "text/plain": [
       "array([[ 4.2     ,  4.15    ,  4.178   , ..., 57.751999, 58.007999,\n",
       "        59.338001]])"
      ]
     },
     "execution_count": 32,
     "metadata": {},
     "output_type": "execute_result"
    }
   ],
   "source": [
    "y_train = scaler.inverse_transform(y_train.reshape(1,-1))\n",
    "y_train"
   ]
  },
  {
   "cell_type": "code",
   "execution_count": 33,
   "id": "2bdbdd17",
   "metadata": {
    "execution": {
     "iopub.execute_input": "2023-02-11T18:36:12.099600Z",
     "iopub.status.busy": "2023-02-11T18:36:12.099059Z",
     "iopub.status.idle": "2023-02-11T18:36:12.105562Z",
     "shell.execute_reply": "2023-02-11T18:36:12.104022Z"
    },
    "papermill": {
     "duration": 0.22439,
     "end_time": "2023-02-11T18:36:12.108485",
     "exception": false,
     "start_time": "2023-02-11T18:36:11.884095",
     "status": "completed"
    },
    "tags": []
   },
   "outputs": [],
   "source": [
    "y_train.shape\n",
    "y_train = np.reshape(y_train, (-1,1))"
   ]
  },
  {
   "cell_type": "code",
   "execution_count": 34,
   "id": "12b67798",
   "metadata": {
    "execution": {
     "iopub.execute_input": "2023-02-11T18:36:12.548267Z",
     "iopub.status.busy": "2023-02-11T18:36:12.547562Z",
     "iopub.status.idle": "2023-02-11T18:36:12.552183Z",
     "shell.execute_reply": "2023-02-11T18:36:12.551394Z"
    },
    "papermill": {
     "duration": 0.230706,
     "end_time": "2023-02-11T18:36:12.554836",
     "exception": false,
     "start_time": "2023-02-11T18:36:12.324130",
     "status": "completed"
    },
    "tags": []
   },
   "outputs": [],
   "source": [
    "y_pred.shape\n",
    "y_pred = np.reshape(y_pred,(-1,1))"
   ]
  },
  {
   "cell_type": "code",
   "execution_count": 35,
   "id": "7b148ce4",
   "metadata": {
    "execution": {
     "iopub.execute_input": "2023-02-11T18:36:13.081121Z",
     "iopub.status.busy": "2023-02-11T18:36:13.080438Z",
     "iopub.status.idle": "2023-02-11T18:36:13.434831Z",
     "shell.execute_reply": "2023-02-11T18:36:13.433202Z"
    },
    "papermill": {
     "duration": 0.575028,
     "end_time": "2023-02-11T18:36:13.438033",
     "exception": false,
     "start_time": "2023-02-11T18:36:12.863005",
     "status": "completed"
    },
    "tags": []
   },
   "outputs": [
    {
     "data": {
      "image/png": "[encoded data removed]",
      "text/plain": [
       "<Figure size 2160x720 with 1 Axes>"
      ]
     },
     "metadata": {
      "needs_background": "light"
     },
     "output_type": "display_data"
    }
   ],
   "source": [
    "plt.figure(figsize = (30,10))\n",
    "plt.plot(y_pred, ls = '--', label = 'y_pred', lw = 2)\n",
    "plt.plot(y_train, label = 'y_train')\n",
    "plt.legend()\n",
    "plt.show()"
   ]
  },
  {
   "cell_type": "code",
   "execution_count": 36,
   "id": "7bafca22",
   "metadata": {
    "execution": {
     "iopub.execute_input": "2023-02-11T18:36:13.873319Z",
     "iopub.status.busy": "2023-02-11T18:36:13.872108Z",
     "iopub.status.idle": "2023-02-11T18:36:13.893248Z",
     "shell.execute_reply": "2023-02-11T18:36:13.892199Z"
    },
    "papermill": {
     "duration": 0.240275,
     "end_time": "2023-02-11T18:36:13.895525",
     "exception": false,
     "start_time": "2023-02-11T18:36:13.655250",
     "status": "completed"
    },
    "tags": []
   },
   "outputs": [
    {
     "data": {
      "text/plain": [
       "array([[  56.102001],\n",
       "       [  60.712002],\n",
       "       [  59.540001],\n",
       "       [  59.695999],\n",
       "       [  60.      ],\n",
       "       [  60.382   ],\n",
       "       [  62.580002],\n",
       "       [  54.051998],\n",
       "       [  61.153999],\n",
       "       [  62.790001],\n",
       "       [  60.666   ],\n",
       "       [  58.790001],\n",
       "       [  54.93    ],\n",
       "       [  52.903999],\n",
       "       [  51.049999],\n",
       "       [  52.922001],\n",
       "       [  51.506001],\n",
       "       [  52.200001],\n",
       "       [  51.812   ],\n",
       "       [  53.139999],\n",
       "       [  56.48    ],\n",
       "       [  53.858002],\n",
       "       [  53.478001],\n",
       "       [  52.136002],\n",
       "       [  52.773998],\n",
       "       [  60.209999],\n",
       "       [  63.444   ],\n",
       "       [  61.650002],\n",
       "       [  67.494003],\n",
       "       [  65.678001],\n",
       "       [  66.508003],\n",
       "       [  67.652   ],\n",
       "       [  68.748001],\n",
       "       [  68.099998],\n",
       "       [  67.814003],\n",
       "       [  68.667999],\n",
       "       [  69.699997],\n",
       "       [  69.800003],\n",
       "       [  69.674004],\n",
       "       [  66.632004],\n",
       "       [  68.540001],\n",
       "       [  68.466003],\n",
       "       [  69.038002],\n",
       "       [  71.267998],\n",
       "       [  68.349998],\n",
       "       [  70.400002],\n",
       "       [  66.870003],\n",
       "       [  65.      ],\n",
       "       [  68.010002],\n",
       "       [  69.197998],\n",
       "       [  69.400002],\n",
       "       [  68.365997],\n",
       "       [  72.      ],\n",
       "       [  71.209999],\n",
       "       [  71.202003],\n",
       "       [  73.800003],\n",
       "       [  72.      ],\n",
       "       [  73.982002],\n",
       "       [  73.884003],\n",
       "       [  74.029999],\n",
       "       [  75.      ],\n",
       "       [  72.400002],\n",
       "       [  70.108002],\n",
       "       [  67.519997],\n",
       "       [  65.410004],\n",
       "       [  63.48    ],\n",
       "       [  62.700001],\n",
       "       [  60.      ],\n",
       "       [  63.967999],\n",
       "       [  64.620003],\n",
       "       [  67.557999],\n",
       "       [  61.220001],\n",
       "       [  61.400002],\n",
       "       [  61.200001],\n",
       "       [  64.344002],\n",
       "       [  68.391998],\n",
       "       [  67.099998],\n",
       "       [  66.879997],\n",
       "       [  68.417999],\n",
       "       [  68.475998],\n",
       "       [  67.      ],\n",
       "       [  68.956001],\n",
       "       [  69.241997],\n",
       "       [  64.599998],\n",
       "       [  60.964001],\n",
       "       [  58.5     ],\n",
       "       [  56.605999],\n",
       "       [  58.877998],\n",
       "       [  58.582001],\n",
       "       [  59.054001],\n",
       "       [  60.09    ],\n",
       "       [  60.200001],\n",
       "       [  61.084   ],\n",
       "       [  62.596001],\n",
       "       [  62.498001],\n",
       "       [  63.917999],\n",
       "       [  62.66    ],\n",
       "       [  61.366001],\n",
       "       [  62.32    ],\n",
       "       [  63.240002],\n",
       "       [  62.470001],\n",
       "       [  60.675999],\n",
       "       [  60.900002],\n",
       "       [  61.312   ],\n",
       "       [  60.882   ],\n",
       "       [  60.362   ],\n",
       "       [  58.897999],\n",
       "       [  59.582001],\n",
       "       [  58.444   ],\n",
       "       [  60.355999],\n",
       "       [  63.784   ],\n",
       "       [  61.388   ],\n",
       "       [  59.624001],\n",
       "       [  56.400002],\n",
       "       [  55.296001],\n",
       "       [  55.768002],\n",
       "       [  55.382   ],\n",
       "       [  56.703999],\n",
       "       [  57.298   ],\n",
       "       [  56.779999],\n",
       "       [  58.490002],\n",
       "       [  56.702   ],\n",
       "       [  55.200001],\n",
       "       [  53.5     ],\n",
       "       [  53.938   ],\n",
       "       [  54.52    ],\n",
       "       [  54.515999],\n",
       "       [  51.942001],\n",
       "       [  52.888   ],\n",
       "       [  53.75    ],\n",
       "       [  55.431999],\n",
       "       [  55.740002],\n",
       "       [  56.523998],\n",
       "       [  57.66    ],\n",
       "       [  57.464001],\n",
       "       [  52.377998],\n",
       "       [  53.972   ],\n",
       "       [  55.537998],\n",
       "       [  54.330002],\n",
       "       [  55.348   ],\n",
       "       [  53.66    ],\n",
       "       [  54.043999],\n",
       "       [  53.726002],\n",
       "       [  53.150002],\n",
       "       [  54.950001],\n",
       "       [  54.245998],\n",
       "       [  53.799999],\n",
       "       [  52.029999],\n",
       "       [  52.77    ],\n",
       "       [  51.      ],\n",
       "       [  49.299999],\n",
       "       [  47.172001],\n",
       "       [  48.411999],\n",
       "       [  47.77    ],\n",
       "       [  49.104   ],\n",
       "       [  48.771999],\n",
       "       [  50.004002],\n",
       "       [  51.360001],\n",
       "       [  49.388   ],\n",
       "       [  48.400002],\n",
       "       [  47.950001],\n",
       "       [  46.402   ],\n",
       "       [  45.860001],\n",
       "       [  45.863998],\n",
       "       [  45.897999],\n",
       "       [  44.391998],\n",
       "       [  40.560001],\n",
       "       [  39.551998],\n",
       "       [  39.82    ],\n",
       "       [  38.868   ],\n",
       "       [  39.966   ],\n",
       "       [  38.240002],\n",
       "       [  37.419998],\n",
       "       [  37.75    ],\n",
       "       [  37.02    ],\n",
       "       [  37.102001],\n",
       "       [  36.220001],\n",
       "       [  39.736   ],\n",
       "       [  40.888   ],\n",
       "       [  41.      ],\n",
       "       [  42.049999],\n",
       "       [  43.827999],\n",
       "       [  44.59    ],\n",
       "       [  42.076   ],\n",
       "       [  42.25    ],\n",
       "       [  43.096001],\n",
       "       [  45.743999],\n",
       "       [  45.021999],\n",
       "       [  44.599998],\n",
       "       [  43.243999],\n",
       "       [  44.647999],\n",
       "       [  44.877998],\n",
       "       [  44.062   ],\n",
       "       [  43.889999],\n",
       "       [  44.198002],\n",
       "       [  46.042   ],\n",
       "       [  45.778   ],\n",
       "       [  47.877998],\n",
       "       [  46.914001],\n",
       "       [  46.248001],\n",
       "       [  45.793999],\n",
       "       [  46.830002],\n",
       "       [  47.627998],\n",
       "       [  47.950001],\n",
       "       [  49.599998],\n",
       "       [  49.860001],\n",
       "       [  51.133999],\n",
       "       [  51.009998],\n",
       "       [  51.138   ],\n",
       "       [  51.75    ],\n",
       "       [  51.341999],\n",
       "       [  51.834   ],\n",
       "       [  46.700001],\n",
       "       [  45.383999],\n",
       "       [  45.417999],\n",
       "       [  46.580002],\n",
       "       [  48.599998],\n",
       "       [  48.529999],\n",
       "       [  46.27    ],\n",
       "       [  45.919998],\n",
       "       [  46.375999],\n",
       "       [  45.299999],\n",
       "       [  46.889999],\n",
       "       [  47.209999],\n",
       "       [  46.598   ],\n",
       "       [  45.762001],\n",
       "       [  46.242001],\n",
       "       [  44.172001],\n",
       "       [  43.332001],\n",
       "       [  44.841999],\n",
       "       [  45.523998],\n",
       "       [  44.402   ],\n",
       "       [  44.560001],\n",
       "       [  43.993999],\n",
       "       [  42.720001],\n",
       "       [  43.147999],\n",
       "       [  42.737999],\n",
       "       [  43.799999],\n",
       "       [  45.830002],\n",
       "       [  44.816002],\n",
       "       [  45.377998],\n",
       "       [  44.5     ],\n",
       "       [  45.439999],\n",
       "       [  46.      ],\n",
       "       [  46.16    ],\n",
       "       [  47.476002],\n",
       "       [  49.540001],\n",
       "       [  49.391998],\n",
       "       [  49.200001],\n",
       "       [  48.493999],\n",
       "       [  49.      ],\n",
       "       [  49.200001],\n",
       "       [  49.298   ],\n",
       "       [  48.      ],\n",
       "       [  48.304001],\n",
       "       [  44.911999],\n",
       "       [  46.132   ],\n",
       "       [  48.439999],\n",
       "       [  48.599998],\n",
       "       [  48.299999],\n",
       "       [  48.658001],\n",
       "       [  46.372002],\n",
       "       [  46.321999],\n",
       "       [  45.959999],\n",
       "       [  47.174   ],\n",
       "       [  48.264   ],\n",
       "       [  49.056   ],\n",
       "       [  49.43    ],\n",
       "       [  49.580002],\n",
       "       [  51.540001],\n",
       "       [  51.478001],\n",
       "       [  52.5     ],\n",
       "       [  52.139999],\n",
       "       [  51.666   ],\n",
       "       [  50.863998],\n",
       "       [  50.900002],\n",
       "       [  59.674   ],\n",
       "       [  59.543999],\n",
       "       [  65.508003],\n",
       "       [  63.998001],\n",
       "       [  62.599998],\n",
       "       [  62.619999],\n",
       "       [  63.264   ],\n",
       "       [  62.959999],\n",
       "       [  63.924   ],\n",
       "       [  63.599998],\n",
       "       [  65.828003],\n",
       "       [  66.900002],\n",
       "       [  68.790001],\n",
       "       [  69.379997],\n",
       "       [  71.      ],\n",
       "       [  69.222   ],\n",
       "       [  70.127998],\n",
       "       [  70.584   ],\n",
       "       [  70.349998],\n",
       "       [  72.      ],\n",
       "       [  70.902   ],\n",
       "       [  68.031998],\n",
       "       [  68.863998],\n",
       "       [  67.054001],\n",
       "       [  66.223999],\n",
       "       [  66.222   ],\n",
       "       [  65.879997],\n",
       "       [  66.524002],\n",
       "       [  67.550003],\n",
       "       [  66.566002],\n",
       "       [  67.      ],\n",
       "       [  67.318001],\n",
       "       [  67.991997],\n",
       "       [  70.375999],\n",
       "       [  70.984001],\n",
       "       [  72.209999],\n",
       "       [  72.510002],\n",
       "       [  75.797997],\n",
       "       [  76.125999],\n",
       "       [  79.463997],\n",
       "       [  82.057999],\n",
       "       [  82.356003],\n",
       "       [  83.671997],\n",
       "       [  85.582001],\n",
       "       [  87.      ],\n",
       "       [  85.758003],\n",
       "       [  81.      ],\n",
       "       [  84.900002],\n",
       "       [  88.099998],\n",
       "       [  88.094002],\n",
       "       [  92.279999],\n",
       "       [  94.739998],\n",
       "       [  99.419998],\n",
       "       [  96.358002],\n",
       "       [  98.699997],\n",
       "       [ 108.851997],\n",
       "       [ 105.952003],\n",
       "       [  98.75    ],\n",
       "       [ 101.522003],\n",
       "       [ 106.050003],\n",
       "       [ 114.377998],\n",
       "       [ 112.849998],\n",
       "       [ 114.125999],\n",
       "       [ 108.398003],\n",
       "       [ 113.697998],\n",
       "       [ 115.138   ],\n",
       "       [ 126.484001],\n",
       "       [ 128.      ],\n",
       "       [ 134.738007],\n",
       "       [ 176.591995],\n",
       "       [ 164.651993],\n",
       "       [ 139.983994],\n",
       "       [ 146.110001],\n",
       "       [ 160.      ],\n",
       "       [ 153.757996],\n",
       "       [ 155.574005],\n",
       "       [ 148.367996],\n",
       "       [ 157.444   ],\n",
       "       [ 168.320007],\n",
       "       [ 184.699997],\n",
       "       [ 182.389999],\n",
       "       [ 181.395996],\n",
       "       [ 167.800003],\n",
       "       [ 169.800003],\n",
       "       [ 156.5     ],\n",
       "       [ 146.      ],\n",
       "       [ 125.940002],\n",
       "       [ 142.251999],\n",
       "       [ 161.      ],\n",
       "       [ 152.792007],\n",
       "       [ 144.753998],\n",
       "       [ 138.      ],\n",
       "       [ 121.078003],\n",
       "       [ 131.886002],\n",
       "       [ 128.039993],\n",
       "       [ 116.178001],\n",
       "       [ 119.      ],\n",
       "       [  93.900002],\n",
       "       [  88.001999],\n",
       "       [  77.800003],\n",
       "       [  74.940002],\n",
       "       [  87.639999],\n",
       "       [  86.720001],\n",
       "       [  95.459999],\n",
       "       [ 109.050003],\n",
       "       [ 109.477997],\n",
       "       [ 101.      ],\n",
       "       [ 102.052002],\n",
       "       [ 100.25    ],\n",
       "       [ 100.800003],\n",
       "       [  96.206001],\n",
       "       [ 101.900002],\n",
       "       [ 102.239998],\n",
       "       [ 109.      ],\n",
       "       [ 110.839996],\n",
       "       [ 112.417999],\n",
       "       [ 118.031998],\n",
       "       [ 139.794006],\n",
       "       [ 148.399994],\n",
       "       [ 143.388   ],\n",
       "       [ 154.455994],\n",
       "       [ 146.539993],\n",
       "       [ 146.024002],\n",
       "       [ 140.796005],\n",
       "       [ 145.520004],\n",
       "       [ 142.162003],\n",
       "       [ 147.522003],\n",
       "       [ 159.128006],\n",
       "       [ 158.033997],\n",
       "       [ 171.037994],\n",
       "       [ 151.      ],\n",
       "       [ 140.199997],\n",
       "       [ 157.957993],\n",
       "       [ 155.300003],\n",
       "       [ 155.442001],\n",
       "       [ 158.753998],\n",
       "       [ 158.102005],\n",
       "       [ 165.399994],\n",
       "       [ 164.166   ],\n",
       "       [ 156.      ],\n",
       "       [ 158.070007],\n",
       "       [ 165.556   ],\n",
       "       [ 163.033997],\n",
       "       [ 164.100006],\n",
       "       [ 163.199997],\n",
       "       [ 164.434006],\n",
       "       [ 166.899994],\n",
       "       [ 164.171997],\n",
       "       [ 162.701996],\n",
       "       [ 161.75    ],\n",
       "       [ 171.600006],\n",
       "       [ 178.940002],\n",
       "       [ 177.623993],\n",
       "       [ 177.975998],\n",
       "       [ 175.567993],\n",
       "       [ 183.800003],\n",
       "       [ 188.001999],\n",
       "       [ 198.376007],\n",
       "       [ 198.039993],\n",
       "       [ 196.      ],\n",
       "       [ 183.557999],\n",
       "       [ 202.369995],\n",
       "       [ 197.542007],\n",
       "       [ 200.600006],\n",
       "       [ 202.556   ],\n",
       "       [ 199.990005],\n",
       "       [ 199.776001],\n",
       "       [ 198.822006],\n",
       "       [ 190.854004],\n",
       "       [ 198.955994],\n",
       "       [ 193.802002],\n",
       "       [ 201.300003],\n",
       "       [ 216.600006],\n",
       "       [ 244.296005],\n",
       "       [ 255.337997],\n",
       "       [ 281.002014],\n",
       "       [ 281.      ],\n",
       "       [ 279.39801 ],\n",
       "       [ 279.200012],\n",
       "       [ 331.799988],\n",
       "       [ 311.200012],\n",
       "       [ 308.600006],\n",
       "       [ 295.432007],\n",
       "       [ 302.690002],\n",
       "       [ 303.802002],\n",
       "       [ 327.985992],\n",
       "       [ 319.799988],\n",
       "       [ 335.790009],\n",
       "       [ 283.201996],\n",
       "       [ 287.      ],\n",
       "       [ 300.799988],\n",
       "       [ 300.200012],\n",
       "       [ 297.600006],\n",
       "       [ 303.      ],\n",
       "       [ 289.839996],\n",
       "       [ 299.002014],\n",
       "       [ 298.597992],\n",
       "       [ 298.165985],\n",
       "       [ 299.90799 ],\n",
       "       [ 289.600006],\n",
       "       [ 279.200012],\n",
       "       [ 294.      ],\n",
       "       [ 322.200012],\n",
       "       [ 332.997986],\n",
       "       [ 335.399994],\n",
       "       [ 379.798004],\n",
       "       [ 373.      ],\n",
       "       [ 372.135986],\n",
       "       [ 408.951996],\n",
       "       [ 425.256012],\n",
       "       [ 394.977997],\n",
       "       [ 412.      ],\n",
       "       [ 436.09201 ],\n",
       "       [ 459.023987],\n",
       "       [ 444.609985],\n",
       "       [ 502.140015],\n",
       "       [ 478.98999 ],\n",
       "       [ 407.230011],\n",
       "       [ 402.809998],\n",
       "       [ 356.      ],\n",
       "       [ 356.600006],\n",
       "       [ 386.209991],\n",
       "       [ 381.940002],\n",
       "       [ 380.950012],\n",
       "       [ 436.559998],\n",
       "       [ 439.869995],\n",
       "       [ 415.600006],\n",
       "       [ 447.940002],\n",
       "       [ 453.130005],\n",
       "       [ 429.600006],\n",
       "       [ 405.160004],\n",
       "       [ 363.799988],\n",
       "       [ 393.470001],\n",
       "       [ 424.619995],\n",
       "       [ 416.      ],\n",
       "       [ 421.320007],\n",
       "       [ 440.76001 ],\n",
       "       [ 421.390015],\n",
       "       [ 423.350006],\n",
       "       [ 423.790009],\n",
       "       [ 419.869995],\n",
       "       [ 438.440002],\n",
       "       [ 430.130005],\n",
       "       [ 442.      ],\n",
       "       [ 443.350006],\n",
       "       [ 449.779999],\n",
       "       [ 450.309998],\n",
       "       [ 454.440002],\n",
       "       [ 446.23999 ],\n",
       "       [ 431.75    ],\n",
       "       [ 422.700012],\n",
       "       [ 441.920013],\n",
       "       [ 421.839996],\n",
       "       [ 411.630005],\n",
       "       [ 423.76001 ],\n",
       "       [ 416.480011],\n",
       "       [ 409.959991],\n",
       "       [ 406.899994],\n",
       "       [ 394.      ],\n",
       "       [ 409.730011],\n",
       "       [ 430.619995],\n",
       "       [ 428.299988],\n",
       "       [ 436.100006],\n",
       "       [ 439.5     ],\n",
       "       [ 420.089996],\n",
       "       [ 416.450012],\n",
       "       [ 415.049988],\n",
       "       [ 410.850006],\n",
       "       [ 408.929993],\n",
       "       [ 460.170013],\n",
       "       [ 448.350006],\n",
       "       [ 492.      ],\n",
       "       [ 497.98999 ],\n",
       "       [ 503.5     ],\n",
       "       [ 540.400024],\n",
       "       [ 550.059998],\n",
       "       [ 581.159973],\n",
       "       [ 602.210022],\n",
       "       [ 597.590027],\n",
       "       [ 556.440002],\n",
       "       [ 590.02002 ],\n",
       "       [ 591.01001 ],\n",
       "       [ 604.919983],\n",
       "       [ 625.51001 ],\n",
       "       [ 653.690002],\n",
       "       [ 574.369995],\n",
       "       [ 615.01001 ],\n",
       "       [ 619.      ],\n",
       "       [ 643.280029],\n",
       "       [ 628.22998 ],\n",
       "       [ 628.190002],\n",
       "       [ 668.900024],\n",
       "       [ 666.23999 ],\n",
       "       [ 648.      ],\n",
       "       [ 632.200012],\n",
       "       [ 642.98999 ],\n",
       "       [ 674.51001 ],\n",
       "       [ 661.      ],\n",
       "       [ 672.      ],\n",
       "       [ 699.98999 ],\n",
       "       [ 719.460022],\n",
       "       [ 723.659973],\n",
       "       [ 758.48999 ],\n",
       "       [ 777.630005],\n",
       "       [ 856.      ],\n",
       "       [ 849.400024],\n",
       "       [ 831.      ],\n",
       "       [ 852.76001 ],\n",
       "       [ 843.390015],\n",
       "       [ 852.      ],\n",
       "       [ 837.799988],\n",
       "       [ 858.73999 ],\n",
       "       [ 855.      ],\n",
       "       [ 834.309998],\n",
       "       [ 855.      ],\n",
       "       [ 891.380005],\n",
       "       [ 870.349976],\n",
       "       [ 820.      ],\n",
       "       [ 830.      ],\n",
       "       [ 814.289978],\n",
       "       [ 844.679993],\n",
       "       [ 877.02002 ],\n",
       "       [ 855.      ],\n",
       "       [ 845.      ],\n",
       "       [ 869.669983],\n",
       "       [ 855.119995],\n",
       "       [ 843.640015],\n",
       "       [ 812.440002],\n",
       "       [ 801.26001 ],\n",
       "       [ 818.      ],\n",
       "       [ 779.090027],\n",
       "       [ 780.900024],\n",
       "       [ 795.      ],\n",
       "       [ 762.640015],\n",
       "       [ 662.130005],\n",
       "       [ 711.849976],\n",
       "       [ 726.150024],\n",
       "       [ 700.      ],\n",
       "       [ 690.109985],\n",
       "       [ 718.280029],\n",
       "       [ 687.98999 ],\n",
       "       [ 655.799988],\n",
       "       [ 626.059998],\n",
       "       [ 600.549988],\n",
       "       [ 608.179993],\n",
       "       [ 700.299988],\n",
       "       [ 699.400024],\n",
       "       [ 670.      ],\n",
       "       [ 694.090027],\n",
       "       [ 703.349976],\n",
       "       [ 656.869995],\n",
       "       [ 684.289978],\n",
       "       [ 646.599976],\n",
       "       [ 684.590027],\n",
       "       [ 675.77002 ],\n",
       "       [ 667.909973],\n",
       "       [ 613.      ],\n",
       "       [ 641.869995],\n",
       "       [ 615.640015],\n",
       "       [ 601.75    ],\n",
       "       [ 646.619995],\n",
       "       [ 688.369995],\n",
       "       [ 707.710022],\n",
       "       [ 690.299988],\n",
       "       [ 687.      ],\n",
       "       [ 677.380005],\n",
       "       [ 677.77002 ],\n",
       "       [ 685.700012],\n",
       "       [ 712.700012],\n",
       "       [ 770.700012],\n",
       "       [ 743.099976],\n",
       "       [ 728.650024],\n",
       "       [ 719.599976],\n",
       "       [ 717.419983],\n",
       "       [ 704.77002 ],\n",
       "       [ 741.5     ],\n",
       "       [ 719.799988],\n",
       "       [ 741.      ],\n",
       "       [ 717.960022],\n",
       "       [ 696.409973],\n",
       "       [ 699.51001 ],\n",
       "       [ 667.590027],\n",
       "       [ 703.799988],\n",
       "       [ 678.940002],\n",
       "       [ 681.059998],\n",
       "       [ 680.76001 ],\n",
       "       [ 665.799988],\n",
       "       [ 664.900024],\n",
       "       [ 599.23999 ],\n",
       "       [ 602.48999 ],\n",
       "       [ 601.539978],\n",
       "       [ 583.409973],\n",
       "       [ 575.549988],\n",
       "       [ 568.      ],\n",
       "       [ 552.549988],\n",
       "       [ 575.      ],\n",
       "       [ 596.109985],\n",
       "       [ 581.599976],\n",
       "       [ 607.309998],\n",
       "       [ 607.559998],\n",
       "       [ 620.23999 ],\n",
       "       [ 628.5     ],\n",
       "       [ 627.799988],\n",
       "       [ 620.130005],\n",
       "       [ 601.799988],\n",
       "       [ 579.710022],\n",
       "       [ 591.830017],\n",
       "       [ 623.01001 ],\n",
       "       [ 602.169983],\n",
       "       [ 603.880005],\n",
       "       [ 610.22998 ],\n",
       "       [ 612.22998 ],\n",
       "       [ 616.690002],\n",
       "       [ 597.539978],\n",
       "       [ 601.890015],\n",
       "       [ 613.369995],\n",
       "       [ 624.47998 ],\n",
       "       [ 618.25    ],\n",
       "       [ 632.      ],\n",
       "       [ 674.98999 ],\n",
       "       [ 689.580017],\n",
       "       [ 671.640015],\n",
       "       [ 684.650024],\n",
       "       [ 679.77002 ],\n",
       "       [ 683.919983],\n",
       "       [ 678.97998 ],\n",
       "       [ 681.710022],\n",
       "       [ 664.27002 ],\n",
       "       [ 628.369995],\n",
       "       [ 653.179993],\n",
       "       [ 662.200012],\n",
       "       [ 686.320007],\n",
       "       [ 670.75    ],\n",
       "       [ 658.390015],\n",
       "       [ 654.679993],\n",
       "       [ 629.890015],\n",
       "       [ 651.98999 ],\n",
       "       [ 659.609985],\n",
       "       [ 656.440002],\n",
       "       [ 646.359985],\n",
       "       [ 650.969971],\n",
       "       [ 663.400024],\n",
       "       [ 647.      ],\n",
       "       [ 649.789978],\n",
       "       [ 671.76001 ],\n",
       "       [ 700.      ],\n",
       "       [ 719.      ],\n",
       "       [ 711.      ],\n",
       "       [ 716.      ],\n",
       "       [ 711.900024],\n",
       "       [ 710.169983],\n",
       "       [ 713.98999 ],\n",
       "       [ 712.710022],\n",
       "       [ 706.340027],\n",
       "       [ 723.710022],\n",
       "       [ 705.070007],\n",
       "       [ 672.659973],\n",
       "       [ 669.75    ],\n",
       "       [ 678.210022],\n",
       "       [ 682.849976],\n",
       "       [ 685.440002],\n",
       "       [ 710.679993],\n",
       "       [ 707.030029],\n",
       "       [ 708.309998],\n",
       "       [ 705.      ],\n",
       "       [ 714.719971],\n",
       "       [ 733.      ],\n",
       "       [ 734.080017],\n",
       "       [ 734.5     ],\n",
       "       [ 732.25    ],\n",
       "       [ 740.      ],\n",
       "       [ 761.580017],\n",
       "       [ 753.409973],\n",
       "       [ 759.599976],\n",
       "       [ 740.210022],\n",
       "       [ 742.570007],\n",
       "       [ 745.      ],\n",
       "       [ 752.830017],\n",
       "       [ 757.150024],\n",
       "       [ 734.559998],\n",
       "       [ 734.789978],\n",
       "       [ 743.530029],\n",
       "       [ 755.      ],\n",
       "       [ 745.890015],\n",
       "       [ 773.119995],\n",
       "       [ 787.200012],\n",
       "       [ 779.799988],\n",
       "       [ 781.      ],\n",
       "       [ 778.400024],\n",
       "       [ 796.5     ],\n",
       "       [ 784.799988],\n",
       "       [ 776.200012],\n",
       "       [ 785.460022],\n",
       "       [ 796.210022],\n",
       "       [ 787.650024],\n",
       "       [ 800.929993],\n",
       "       [ 810.469971],\n",
       "       [ 815.48999 ],\n",
       "       [ 823.73999 ],\n",
       "       [ 851.789978],\n",
       "       [ 877.530029],\n",
       "       [ 865.349976],\n",
       "       [ 856.      ],\n",
       "       [ 895.5     ],\n",
       "       [ 950.530029],\n",
       "       [1024.689941],\n",
       "       [1039.660034],\n",
       "       [1068.310059],\n",
       "       [1081.859985],\n",
       "       [1145.      ],\n",
       "       [1159.359985],\n",
       "       [1177.329956],\n",
       "       [1234.410034],\n",
       "       [1228.      ],\n",
       "       [1149.790039],\n",
       "       [1173.599976],\n",
       "       [1010.409973],\n",
       "       [1102.77002 ],\n",
       "       [1047.5     ],\n",
       "       [1017.630005],\n",
       "       [1003.309998],\n",
       "       [1063.51001 ],\n",
       "       [1106.550049],\n",
       "       [1098.869995],\n",
       "       [1162.329956],\n",
       "       [1167.51001 ],\n",
       "       [1080.390015],\n",
       "       [1099.469971],\n",
       "       [1100.98999 ],\n",
       "       [1144.369995],\n",
       "       [1160.699951],\n",
       "       [1099.060059],\n",
       "       [1084.790039],\n",
       "       [1001.51001 ],\n",
       "       [1044.199951],\n",
       "       [1052.709961],\n",
       "       [1060.640015],\n",
       "       [1008.75    ],\n",
       "       [1001.090027],\n",
       "       [ 945.      ],\n",
       "       [ 953.210022],\n",
       "       [ 994.5     ],\n",
       "       [ 914.77002 ],\n",
       "       [ 910.700012],\n",
       "       [ 916.869995],\n",
       "       [ 965.659973],\n",
       "       [1006.799988],\n",
       "       [1073.670044],\n",
       "       [1109.48999 ],\n",
       "       [1098.640015],\n",
       "       [1061.329956],\n",
       "       [1073.439941],\n",
       "       [1147.75    ],\n",
       "       [1189.550049],\n",
       "       [1146.650024],\n",
       "       [1077.      ],\n",
       "       [1080.369995],\n",
       "       [1000.      ],\n",
       "       [1053.670044],\n",
       "       [1078.849976],\n",
       "       [1109.069946],\n",
       "       [1019.880005],\n",
       "       [1026.609985],\n",
       "       [1041.709961],\n",
       "       [1009.72998 ],\n",
       "       [ 996.340027],\n",
       "       [ 904.76001 ],\n",
       "       [ 914.200012],\n",
       "       [ 952.429993],\n",
       "       [ 933.359985],\n",
       "       [ 831.559998],\n",
       "       [ 872.710022],\n",
       "       [ 935.210022],\n",
       "       [ 928.179993],\n",
       "       [ 882.      ],\n",
       "       [ 897.219971],\n",
       "       [ 923.789978],\n",
       "       [ 905.530029],\n",
       "       [ 935.      ],\n",
       "       [ 908.369995],\n",
       "       [ 909.630005],\n",
       "       [ 861.570007],\n",
       "       [ 900.      ],\n",
       "       [ 914.049988],\n",
       "       [ 913.26001 ],\n",
       "       [ 886.      ],\n",
       "       [ 834.130005],\n",
       "       [ 830.429993],\n",
       "       [ 700.390015],\n",
       "       [ 809.22998 ],\n",
       "       [ 815.01001 ],\n",
       "       [ 869.679993],\n",
       "       [ 872.130005],\n",
       "       [ 878.77002 ],\n",
       "       [ 849.099976],\n",
       "       [ 856.299988],\n",
       "       [ 795.530029],\n",
       "       [ 839.47998 ],\n",
       "       [ 851.450012],\n",
       "       [ 840.200012],\n",
       "       [ 780.609985],\n",
       "       [ 775.27002 ],\n",
       "       [ 809.      ],\n",
       "       [ 830.98999 ],\n",
       "       [ 874.48999 ],\n",
       "       [ 914.97998 ],\n",
       "       [ 930.      ],\n",
       "       [ 979.940002],\n",
       "       [1009.72998 ],\n",
       "       [1008.      ],\n",
       "       [1065.099976],\n",
       "       [1065.099976]])"
      ]
     },
     "execution_count": 36,
     "metadata": {},
     "output_type": "execute_result"
    }
   ],
   "source": [
    "val = val_data.values.reshape(-1,1)\n",
    "val"
   ]
  },
  {
   "cell_type": "code",
   "execution_count": 37,
   "id": "9d6f2a26",
   "metadata": {
    "execution": {
     "iopub.execute_input": "2023-02-11T18:36:14.331240Z",
     "iopub.status.busy": "2023-02-11T18:36:14.330391Z",
     "iopub.status.idle": "2023-02-11T18:36:14.336033Z",
     "shell.execute_reply": "2023-02-11T18:36:14.335163Z"
    },
    "papermill": {
     "duration": 0.228048,
     "end_time": "2023-02-11T18:36:14.338409",
     "exception": false,
     "start_time": "2023-02-11T18:36:14.110361",
     "status": "completed"
    },
    "tags": []
   },
   "outputs": [],
   "source": [
    "scaled_valset = scaler.fit_transform(val)"
   ]
  },
  {
   "cell_type": "code",
   "execution_count": 38,
   "id": "555ff3e5",
   "metadata": {
    "execution": {
     "iopub.execute_input": "2023-02-11T18:36:14.789079Z",
     "iopub.status.busy": "2023-02-11T18:36:14.788322Z",
     "iopub.status.idle": "2023-02-11T18:36:14.794834Z",
     "shell.execute_reply": "2023-02-11T18:36:14.793687Z"
    },
    "papermill": {
     "duration": 0.235783,
     "end_time": "2023-02-11T18:36:14.797535",
     "exception": false,
     "start_time": "2023-02-11T18:36:14.561752",
     "status": "completed"
    },
    "tags": []
   },
   "outputs": [],
   "source": [
    "xval_train = []\n",
    "yval_train = []\n",
    "step = 50\n",
    "\n",
    "for i in range(step, val_length):\n",
    "    xval_train.append(scaled_valset[i-step:i,0])\n",
    "    yval_train.append(scaled_valset[i,0])"
   ]
  },
  {
   "cell_type": "code",
   "execution_count": 39,
   "id": "68997ac7",
   "metadata": {
    "execution": {
     "iopub.execute_input": "2023-02-11T18:36:15.303700Z",
     "iopub.status.busy": "2023-02-11T18:36:15.302799Z",
     "iopub.status.idle": "2023-02-11T18:36:15.309271Z",
     "shell.execute_reply": "2023-02-11T18:36:15.308411Z"
    },
    "papermill": {
     "duration": 0.297804,
     "end_time": "2023-02-11T18:36:15.311653",
     "exception": false,
     "start_time": "2023-02-11T18:36:15.013849",
     "status": "completed"
    },
    "tags": []
   },
   "outputs": [],
   "source": [
    "X_val, y_val = np.array(xval_train), np.array(yval_train)"
   ]
  },
  {
   "cell_type": "code",
   "execution_count": 40,
   "id": "22811d56",
   "metadata": {
    "execution": {
     "iopub.execute_input": "2023-02-11T18:36:15.763398Z",
     "iopub.status.busy": "2023-02-11T18:36:15.762978Z",
     "iopub.status.idle": "2023-02-11T18:36:15.768891Z",
     "shell.execute_reply": "2023-02-11T18:36:15.767427Z"
    },
    "papermill": {
     "duration": 0.233437,
     "end_time": "2023-02-11T18:36:15.771372",
     "exception": false,
     "start_time": "2023-02-11T18:36:15.537935",
     "status": "completed"
    },
    "tags": []
   },
   "outputs": [],
   "source": [
    "X_val = np.reshape(X_val, (X_val.shape[0],X_val.shape[1],1))  # reshape to 3D array\n",
    "y_val = np.reshape(y_val, (-1,1))"
   ]
  },
  {
   "cell_type": "code",
   "execution_count": 41,
   "id": "2c5b1d1e",
   "metadata": {
    "execution": {
     "iopub.execute_input": "2023-02-11T18:36:16.201227Z",
     "iopub.status.busy": "2023-02-11T18:36:16.200830Z",
     "iopub.status.idle": "2023-02-11T18:36:17.446569Z",
     "shell.execute_reply": "2023-02-11T18:36:17.445633Z"
    },
    "papermill": {
     "duration": 1.464237,
     "end_time": "2023-02-11T18:36:17.449236",
     "exception": false,
     "start_time": "2023-02-11T18:36:15.984999",
     "status": "completed"
    },
    "tags": []
   },
   "outputs": [],
   "source": [
    "y_pred_val = model.predict(X_val)"
   ]
  },
  {
   "cell_type": "code",
   "execution_count": 42,
   "id": "c3517e1a",
   "metadata": {
    "execution": {
     "iopub.execute_input": "2023-02-11T18:36:17.890555Z",
     "iopub.status.busy": "2023-02-11T18:36:17.889694Z",
     "iopub.status.idle": "2023-02-11T18:36:17.895757Z",
     "shell.execute_reply": "2023-02-11T18:36:17.894824Z"
    },
    "papermill": {
     "duration": 0.229066,
     "end_time": "2023-02-11T18:36:17.898047",
     "exception": false,
     "start_time": "2023-02-11T18:36:17.668981",
     "status": "completed"
    },
    "tags": []
   },
   "outputs": [],
   "source": [
    "y_pred_val = scaler.inverse_transform(y_pred_val)"
   ]
  },
  {
   "cell_type": "code",
   "execution_count": 43,
   "id": "bf983611",
   "metadata": {
    "execution": {
     "iopub.execute_input": "2023-02-11T18:36:18.334232Z",
     "iopub.status.busy": "2023-02-11T18:36:18.332982Z",
     "iopub.status.idle": "2023-02-11T18:36:18.339036Z",
     "shell.execute_reply": "2023-02-11T18:36:18.338166Z"
    },
    "papermill": {
     "duration": 0.226896,
     "end_time": "2023-02-11T18:36:18.341535",
     "exception": false,
     "start_time": "2023-02-11T18:36:18.114639",
     "status": "completed"
    },
    "tags": []
   },
   "outputs": [],
   "source": [
    "y_val_is = scaler.inverse_transform(y_val)"
   ]
  },
  {
   "cell_type": "code",
   "execution_count": 44,
   "id": "d0769d5a",
   "metadata": {
    "execution": {
     "iopub.execute_input": "2023-02-11T18:36:18.878420Z",
     "iopub.status.busy": "2023-02-11T18:36:18.877545Z",
     "iopub.status.idle": "2023-02-11T18:36:19.218019Z",
     "shell.execute_reply": "2023-02-11T18:36:19.216673Z"
    },
    "papermill": {
     "duration": 0.660946,
     "end_time": "2023-02-11T18:36:19.221125",
     "exception": false,
     "start_time": "2023-02-11T18:36:18.560179",
     "status": "completed"
    },
    "tags": []
   },
   "outputs": [
    {
     "data": {
      "image/png": "[encoded data removed]",
      "text/plain": [
       "<Figure size 2160x720 with 1 Axes>"
      ]
     },
     "metadata": {
      "needs_background": "light"
     },
     "output_type": "display_data"
    }
   ],
   "source": [
    "plt.figure(figsize = (30,10))\n",
    "plt.plot(y_pred_val, label = 'y_pred')\n",
    "plt.plot(y_val_is, label = 'y_val')\n",
    "plt.legend()\n",
    "plt.show()"
   ]
  },
  {
   "cell_type": "code",
   "execution_count": 45,
   "id": "e53001ea",
   "metadata": {
    "execution": {
     "iopub.execute_input": "2023-02-11T18:36:19.679069Z",
     "iopub.status.busy": "2023-02-11T18:36:19.678613Z",
     "iopub.status.idle": "2023-02-11T18:36:20.120189Z",
     "shell.execute_reply": "2023-02-11T18:36:20.118444Z"
    },
    "papermill": {
     "duration": 0.676177,
     "end_time": "2023-02-11T18:36:20.123497",
     "exception": false,
     "start_time": "2023-02-11T18:36:19.447320",
     "status": "completed"
    },
    "tags": []
   },
   "outputs": [],
   "source": [
    "import tensorflow as tf\n",
    "import os\n",
    "from tensorflow.keras.models import load_model"
   ]
  },
  {
   "cell_type": "code",
   "execution_count": 46,
   "id": "541965f5",
   "metadata": {
    "execution": {
     "iopub.execute_input": "2023-02-11T18:36:20.570081Z",
     "iopub.status.busy": "2023-02-11T18:36:20.569363Z",
     "iopub.status.idle": "2023-02-11T18:36:20.906798Z",
     "shell.execute_reply": "2023-02-11T18:36:20.905849Z"
    },
    "papermill": {
     "duration": 0.563886,
     "end_time": "2023-02-11T18:36:20.909932",
     "exception": false,
     "start_time": "2023-02-11T18:36:20.346046",
     "status": "completed"
    },
    "tags": []
   },
   "outputs": [],
   "source": [
    "model.save(os.path.join('model', 'SimpleRNN_Forecasting.h5'))\n",
    "new_model = load_model(os.path.join('model', 'SimpleRNN_Forecasting.h5'))"
   ]
  },
  {
   "cell_type": "markdown",
   "id": "bc412039",
   "metadata": {
    "papermill": {
     "duration": 0.224223,
     "end_time": "2023-02-11T18:36:21.365730",
     "exception": false,
     "start_time": "2023-02-11T18:36:21.141507",
     "status": "completed"
    },
    "tags": []
   },
   "source": [
    "- The RNN model is saved in variable model.\n",
    "/kaggle/working/model/SimpleRNN_Forecasting.h5\n",
    "\n",
    "- Using model we can predict use the model on any data."
   ]
  },
  {
   "cell_type": "code",
   "execution_count": null,
   "id": "f0e1af53",
   "metadata": {
    "papermill": {
     "duration": 0.231551,
     "end_time": "2023-02-11T18:36:21.821179",
     "exception": false,
     "start_time": "2023-02-11T18:36:21.589628",
     "status": "completed"
    },
    "tags": []
   },
   "outputs": [],
   "source": []
  }
 ],
 "metadata": {
  "kernelspec": {
   "display_name": "Python 3",
   "language": "python",
   "name": "python3"
  },
  "language_info": {
   "codemirror_mode": {
    "name": "ipython",
    "version": 3
   },
   "file_extension": ".py",
   "mimetype": "text/x-python",
   "name": "python",
   "nbconvert_exporter": "python",
   "pygments_lexer": "ipython3",
   "version": "3.7.12"
  },
  "papermill": {
   "default_parameters": {},
   "duration": 427.731466,
   "end_time": "2023-02-11T18:36:25.305204",
   "environment_variables": {},
   "exception": null,
   "input_path": "__notebook__.ipynb",
   "output_path": "__notebook__.ipynb",
   "parameters": {},
   "start_time": "2023-02-11T18:29:17.573738",
   "version": "2.3.4"
  }
 },
 "nbformat": 4,
 "nbformat_minor": 5
}
